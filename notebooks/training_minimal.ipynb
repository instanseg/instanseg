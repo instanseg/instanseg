{
 "cells": [
  {
   "cell_type": "code",
   "execution_count": null,
   "metadata": {},
   "outputs": [],
   "source": [
    "%load_ext autoreload\n",
    "%autoreload 2\n",
    "\n",
    "from instanseg.utils.display import show_images\n",
    "import os\n",
    "\n",
    "os.environ['INSTANSEG_RAW_DATASETS'] = os.path.abspath(\"../Raw_Datasets/\")\n",
    "\n",
    "if not os.path.exists(os.environ['INSTANSEG_RAW_DATASETS'] ):\n",
    "    os.mkdir(os.environ['INSTANSEG_RAW_DATASETS'])\n",
    "\n",
    "\n",
    "os.environ['INSTANSEG_DATASET_PATH'] = os.path.abspath(\"../instanseg/datasets/\")\n",
    "\n",
    "if not os.path.exists(os.environ['INSTANSEG_DATASET_PATH'] ):\n",
    "    os.mkdir(os.environ['INSTANSEG_DATASET_PATH'])\n",
    "\n",
    "Segmentation_Dataset = {}\n",
    "Segmentation_Dataset['Train']=[]\n",
    "Segmentation_Dataset['Test']=[]\n",
    "Segmentation_Dataset['Validation']=[]"
   ]
  },
  {
   "cell_type": "markdown",
   "metadata": {},
   "source": [
    "Load the TNBC_2018 dataset in memory. (See load_datasets.ipynb for a lot more examples of datasets)"
   ]
  },
  {
   "cell_type": "code",
   "execution_count": null,
   "metadata": {},
   "outputs": [],
   "source": [
    "from instanseg.utils.data_download import load_TNBC_2018\n",
    "Segmentation_Dataset = load_TNBC_2018(Segmentation_Dataset)\n",
    "\n",
    "item = Segmentation_Dataset['Train'][-1]\n",
    "\n",
    "show_images(item['image'],item['nucleus_masks'],colorbar = False,labels = [1], axes = True)"
   ]
  },
  {
   "cell_type": "markdown",
   "metadata": {},
   "source": [
    "Start training. For an extensive list of parameters and configurations, see train.py"
   ]
  },
  {
   "cell_type": "code",
   "execution_count": null,
   "metadata": {},
   "outputs": [],
   "source": [
    "from instanseg.scripts.train import instanseg_training\n",
    "\n",
    "instanseg_training(segmentation_dataset = Segmentation_Dataset,\n",
    "                 source_dataset = \"TNBC_2018\", \n",
    "                output_path = \"../instanseg/models/\",\n",
    "                experiment_str = \"my_first_instanseg\",\n",
    "                requested_pixel_size = 0.5,\n",
    "                target_segmentation = \"N\")"
   ]
  }
 ],
 "metadata": {
  "kernelspec": {
   "display_name": "Python 3",
   "language": "python",
   "name": "python3"
  },
  "language_info": {
   "codemirror_mode": {
    "name": "ipython",
    "version": 3
   },
   "file_extension": ".py",
   "mimetype": "text/x-python",
   "name": "python",
   "nbconvert_exporter": "python",
   "pygments_lexer": "ipython3",
   "version": "3.11.10"
  }
 },
 "nbformat": 4,
 "nbformat_minor": 2
}
