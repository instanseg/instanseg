{
 "cells": [
  {
   "cell_type": "code",
   "execution_count": null,
   "id": "a00281d2",
   "metadata": {},
   "outputs": [],
   "source": [
    "%load_ext autoreload\n",
    "%autoreload 2"
   ]
  },
  {
   "cell_type": "markdown",
   "id": "eb80f6e0",
   "metadata": {},
   "source": [
    "### Download an example image"
   ]
  },
  {
   "cell_type": "code",
   "execution_count": null,
   "id": "63b1d093",
   "metadata": {},
   "outputs": [],
   "source": [
    "import os\n",
    "import requests\n",
    "\n",
    "# Create the directory if it does not exist\n",
    "examples_dir = \"../instanseg/examples/\"\n",
    "if not os.path.exists(examples_dir):\n",
    "    os.makedirs(examples_dir)\n",
    "\n",
    "#This is the LuCa-7color_[13860,52919]_1x1 from Perkin Elmer CC-BY 4.0\n",
    "download_url = \"https://downloads.openmicroscopy.org/images/Vectra-QPTIFF/perkinelmer/PKI_fields/LuCa-7color_%5b13860,52919%5d_1x1component_data.tif\"\n",
    "local_file_path = os.path.join(examples_dir, \"LuCa1.tif\")\n",
    "\n",
    "# Download the file using requests\n",
    "response = requests.get(download_url, stream=True)\n",
    "response.raise_for_status()\n",
    "with open(local_file_path, 'wb') as f:\n",
    "    for chunk in response.iter_content(chunk_size=8192):\n",
    "        f.write(chunk)\n",
    "\n",
    "print(f\"File downloaded to {local_file_path}\")"
   ]
  },
  {
   "cell_type": "markdown",
   "id": "0909a911",
   "metadata": {},
   "source": [
    "### Download pretrained models"
   ]
  },
  {
   "cell_type": "code",
   "execution_count": null,
   "id": "f3358e45",
   "metadata": {},
   "outputs": [],
   "source": [
    "from instanseg import InstanSeg\n",
    "from instanseg.utils.utils import show_images\n",
    "\n",
    "instanseg_brightfield = InstanSeg(\"brightfield_nuclei\", verbosity=1)\n",
    "instanseg_fluorescence = InstanSeg(\"fluorescence_nuclei_and_cells\", verbosity=1)"
   ]
  },
  {
   "cell_type": "markdown",
   "id": "9e97670b",
   "metadata": {},
   "source": [
    "**The easiest way to use the model is to call the eval method:**\n"
   ]
  },
  {
   "cell_type": "code",
   "execution_count": null,
   "id": "1198e9bd",
   "metadata": {},
   "outputs": [],
   "source": [
    "labeled_output = instanseg_brightfield.eval(image = \"../instanseg/examples/HE_example.tif\",\n",
    "                                            save_output = True,\n",
    "                                            save_overlay=True,)\n",
    "                                            "
   ]
  },
  {
   "cell_type": "markdown",
   "id": "5df90664",
   "metadata": {},
   "source": [
    "**Most of the time, we need more granularity, so the inference can be broken down in smaller steps:**\n"
   ]
  },
  {
   "cell_type": "code",
   "execution_count": null,
   "id": "1c44017f",
   "metadata": {},
   "outputs": [],
   "source": [
    "image_array, pixel_size = instanseg_brightfield.read_image(\"../instanseg/examples/HE_example.tif\")\n",
    "\n",
    "labeled_output, image_tensor  = instanseg_brightfield.eval_small_image(image_array, pixel_size)\n",
    "\n",
    "display = instanseg_brightfield.display(image_array, labeled_output)\n",
    "\n",
    "show_images(image_array,display, colorbar=False, titles = [\"Original Image\", \"Image with segmentation\"])\n"
   ]
  },
  {
   "cell_type": "markdown",
   "id": "b0b8829f",
   "metadata": {},
   "source": [
    "**InstanSeg is designed for the segmentation of cells and nuclei in multiplexed images too**"
   ]
  },
  {
   "cell_type": "code",
   "execution_count": null,
   "id": "6d187bd8",
   "metadata": {},
   "outputs": [],
   "source": [
    "\n",
    "image_array, pixel_size = instanseg_fluorescence.read_image(\"../instanseg/examples/LuCa1.tif\")\n",
    "\n",
    "labeled_output, image_tensor  = instanseg_fluorescence.eval_small_image(image_array, pixel_size, resolve_cell_and_nucleus=False, cleanup_fragments = True)\n",
    "\n",
    "display = instanseg_fluorescence.display(image_tensor, labeled_output)\n",
    "\n",
    "show_images(display, colorbar=False)\n",
    "\n"
   ]
  },
  {
   "cell_type": "markdown",
   "id": "76863747",
   "metadata": {},
   "source": [
    "**Your image is too large to fit on the GPU? You can run InstanSeg across the image tiles.**\n",
    "\n",
    "*The whole image still has to fit in RAM using *eval_medium_image*\n",
    "\n",
    "\n",
    "By default, InstanSeg will output both cells and nuclei. You can specifiy the target parameter to predict only cells or nuclei"
   ]
  },
  {
   "cell_type": "code",
   "execution_count": null,
   "id": "ba81c855",
   "metadata": {},
   "outputs": [],
   "source": [
    "instanseg_fluorescence = InstanSeg(\"fluorescence_nuclei_and_cells\", verbosity=1)\n",
    "\n",
    "image_array, pixel_size = instanseg_fluorescence.read_image(\"../instanseg/examples/LuCa1.tif\")\n",
    "\n",
    "labeled_output, image_tensor  = instanseg_fluorescence.eval_medium_image(image_array, pixel_size, target= \"cells\")\n",
    "\n",
    "display = instanseg_fluorescence.display(image_tensor, labeled_output)\n",
    "\n",
    "show_images(display, colorbar=False)\n"
   ]
  },
  {
   "cell_type": "markdown",
   "id": "c61dab10",
   "metadata": {},
   "source": [
    "**Your image is too large to fit in RAM? You can still run InstanSeg across whole slide images**\n",
    "\n",
    "This is still an experimental feature\n"
   ]
  },
  {
   "cell_type": "code",
   "execution_count": null,
   "id": "188d7f7c",
   "metadata": {},
   "outputs": [],
   "source": [
    "instanseg_brightfield.eval_whole_slide_image(\"path_to_whole_slide_image\")"
   ]
  },
  {
   "cell_type": "markdown",
   "id": "51bc4778",
   "metadata": {},
   "source": [
    "Experimental ! You can play around with these features - but we may not be able to help you debug or answer your questions..."
   ]
  },
  {
   "cell_type": "code",
   "execution_count": null,
   "id": "fa5d870c",
   "metadata": {},
   "outputs": [],
   "source": [
    "\n",
    "image_array, pixel_size = instanseg_fluorescence.read_image(\"../instanseg/examples/LuCa1.tif\")\n",
    "\n",
    "labeled_output, image_tensor  = instanseg_fluorescence.eval_small_image(image_array, pixel_size, resolve_cell_and_nucleus=False, mean_threshold = 0.3, cleanup_fragments = True)\n",
    "\n",
    "display = instanseg_fluorescence.display(image_tensor, labeled_output)\n",
    "\n",
    "show_images(display, colorbar=False)\n",
    "\n"
   ]
  },
  {
   "cell_type": "code",
   "execution_count": null,
   "id": "356c91f7",
   "metadata": {},
   "outputs": [],
   "source": [
    "instanseg_fluorescence = InstanSeg(\"fluorescence_nuclei_and_cells\", verbosity=0)\n",
    "\n",
    "image_array, pixel_size = instanseg_fluorescence.read_image(\"../instanseg/examples/LuCa1.tif\")\n",
    "\n",
    "labeled_output, image_tensor  = instanseg_fluorescence.eval_small_image(image_array, pixel_size, target= \"cells\")\n",
    "\n",
    "display = instanseg_fluorescence.display(image_tensor, labeled_output)\n",
    "\n",
    "#you'll need extra libraries for this, but you can cluster the instances by mean channel intensity and show a umap.\n",
    "instanseg_fluorescence.cluster_instances_by_mean_channel_intensity(image_tensor,labeled_output )\n",
    "\n",
    "\n",
    "                                "
   ]
  }
 ],
 "metadata": {
  "kernelspec": {
   "display_name": "Python 3 (ipykernel)",
   "language": "python",
   "name": "python3"
  },
  "language_info": {
   "codemirror_mode": {
    "name": "ipython",
    "version": 3
   },
   "file_extension": ".py",
   "mimetype": "text/x-python",
   "name": "python",
   "nbconvert_exporter": "python",
   "pygments_lexer": "ipython3",
   "version": "3.11.10"
  },
  "vscode": {
   "interpreter": {
    "hash": "5ae1f65caa71b38fc1ba7bd60417cf378993b2667a884a2b792dd708d4ac0a6a"
   }
  }
 },
 "nbformat": 4,
 "nbformat_minor": 5
}
