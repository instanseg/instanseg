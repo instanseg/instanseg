{
 "cells": [
  {
   "cell_type": "code",
   "execution_count": 1,
   "metadata": {},
   "outputs": [],
   "source": [
    "%load_ext autoreload\n",
    "%autoreload 2\n",
    "\n",
    "from instanseg.utils.create_bioimagio_model import export_bioimageio\n",
    "\n",
    "import os\n",
    "os.environ[\"INSTANSEG_MODEL_PATH\"] = str(os.path.abspath(\"../instanseg/models/\"))\n",
    "os.environ[\"INSTANSEG_TORCHSCRIPT_PATH\"] = str(os.path.abspath(\"../instanseg/torchscripts/\"))\n",
    "os.environ[\"INSTANSEG_BIOIMAGEIO_PATH\"] = str(os.path.abspath(\"../instanseg/bioimageio_models/\"))"
   ]
  },
  {
   "cell_type": "code",
   "execution_count": null,
   "metadata": {},
   "outputs": [],
   "source": [
    "from instanseg.utils.utils import export_to_torchscript\n",
    "import torch\n",
    "\n",
    "model_name = \"your_model_name\"\n",
    "\n",
    "export_to_torchscript(model_name, show_example=True)\n",
    "\n",
    "instanseg_script = torch.jit.load(\"../instanseg/torchscripts/\"+ model_name + \".pt\")\n",
    "\n",
    "export_bioimageio(instanseg_script, \n",
    "                model_name = model_name,\n",
    "                test_img_path = \"../instanseg/examples/Fluorescence_example.tif\",\n",
    "                output_name=\"fluorescence_nuclei_and_cells\",\n",
    "                output_channel_names=[\"nuclei\", \"cells\"],\n",
    "                version = \"0.1.0\"\n",
    "            )\n",
    "\n"
   ]
  }
 ],
 "metadata": {
  "kernelspec": {
   "display_name": "monai-bioimageio",
   "language": "python",
   "name": "python3"
  },
  "language_info": {
   "codemirror_mode": {
    "name": "ipython",
    "version": 3
   },
   "file_extension": ".py",
   "mimetype": "text/x-python",
   "name": "python",
   "nbconvert_exporter": "python",
   "pygments_lexer": "ipython3",
   "version": "3.11.11"
  },
  "orig_nbformat": 4
 },
 "nbformat": 4,
 "nbformat_minor": 2
}
