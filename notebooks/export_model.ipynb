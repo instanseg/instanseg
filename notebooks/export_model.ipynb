{
 "cells": [
  {
   "cell_type": "code",
   "execution_count": null,
   "metadata": {},
   "outputs": [],
   "source": [
    "%load_ext autoreload\n",
    "%autoreload 2\n",
    "\n",
    "import torch\n",
    "from instanseg.utils.create_bioimageio_model import export_bioimageio\n",
    "from instanseg.utils.utils import show_images\n",
    "\n",
    "import os\n",
    "os.environ[\"INSTANSEG_MODEL_PATH\"] = str(os.path.abspath(\"../instanseg/models/\"))\n",
    "os.environ[\"INSTANSEG_TORCHSCRIPT_PATH\"] = str(os.path.abspath(\"../instanseg/torchscripts/\"))\n",
    "os.environ[\"INSTANSEG_BIOIMAGEIO_PATH\"] = str(os.path.abspath(\"../instanseg/bioimageio_models/\"))"
   ]
  },
  {
   "cell_type": "code",
   "execution_count": null,
   "metadata": {},
   "outputs": [],
   "source": [
    "from instanseg.utils.utils import export_to_torchscript\n",
    "\n",
    "model_name = \"my_first_instanSeg\"\n",
    "\n",
    "export_to_torchscript(model_name, show_example=True)\n",
    "\n",
    "instanseg = torch.jit.load(\"../instanseg/torchscripts/\"+ model_name + \".pt\")\n",
    "\n",
    "export_bioimageio(instanseg, \n",
    "                model_name = model_name,\n",
    "                test_img_path = \"../instanseg/examples/HE_example.tif\",\n",
    "            )\n",
    "\n"
   ]
  }
 ],
 "metadata": {
  "kernelspec": {
   "display_name": "monai-bioimageio",
   "language": "python",
   "name": "python3"
  },
  "language_info": {
   "codemirror_mode": {
    "name": "ipython",
    "version": 3
   },
   "file_extension": ".py",
   "mimetype": "text/x-python",
   "name": "python",
   "nbconvert_exporter": "python",
   "pygments_lexer": "ipython3",
   "version": "3.9.20"
  },
  "orig_nbformat": 4
 },
 "nbformat": 4,
 "nbformat_minor": 2
}
